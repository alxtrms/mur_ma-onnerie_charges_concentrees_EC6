{
 "cells": [
  {
   "cell_type": "markdown",
   "id": "cd69c23e",
   "metadata": {
    "extensions": {
     "jupyter_dashboards": {
      "version": 1,
      "views": {
       "default_view": {
        "col": 0,
        "height": 2,
        "row": 90,
        "width": 12
       }
      }
     }
    }
   },
   "source": [
    "# Mur en maçonnerie soumis à des charges concentrées "
   ]
  },
  {
   "cell_type": "code",
   "execution_count": 1,
   "id": "5c07b685",
   "metadata": {
    "ExecuteTime": {
     "end_time": "2022-05-10T16:25:14.337354Z",
     "start_time": "2022-05-10T16:25:13.682412Z"
    },
    "extensions": {
     "jupyter_dashboards": {
      "version": 1,
      "views": {
       "default_view": {
        "hidden": true
       }
      }
     }
    }
   },
   "outputs": [],
   "source": [
    "## Importation des différentes bibliothèques nécéssaires\n",
    "\n",
    "from math import *\n",
    "import ipywidgets as widgets\n",
    "from tkinter import *\n",
    "import ipywidgets as widgets\n",
    "import matplotlib.pyplot as plt\n",
    "import numpy as np\n",
    "from IPython.display import Javascript, display\n",
    "from ipywidgets import widgets\n",
    "import pandas as pd\n",
    "from math import *\n",
    "import matplotlib.pyplot as plt\n",
    "import math\n",
    "from ipycanvas import Canvas\n",
    "from ipycanvas import Canvas, hold_canvas"
   ]
  },
  {
   "cell_type": "markdown",
   "id": "234a9eb6",
   "metadata": {
    "extensions": {
     "jupyter_dashboards": {
      "version": 1,
      "views": {
       "default_view": {
        "col": 0,
        "height": 2,
        "row": 86,
        "width": 12
       }
      }
     }
    }
   },
   "source": [
    "## 1. Données d'entrée"
   ]
  },
  {
   "cell_type": "markdown",
   "id": "aef20aed",
   "metadata": {
    "extensions": {
     "jupyter_dashboards": {
      "version": 1,
      "views": {
       "default_view": {
        "col": 0,
        "height": 2,
        "row": 84,
        "width": 12
       }
      }
     }
    }
   },
   "source": [
    "### 1.1. Références normatives\n",
    "\n",
    "*- NF EN 1996 + AN : Calcul des ouvrages en maçonnerie*\n",
    "\n",
    "*- DTU 20.1 : Ouvrages en maçonnerie de petits éléments*\n",
    "\n",
    "*- Murs à joints non interrompus, réalisés avec des blocs du groupe 1 (blocs pleins)*"
   ]
  },
  {
   "cell_type": "markdown",
   "id": "2664dfe8",
   "metadata": {
    "extensions": {
     "jupyter_dashboards": {
      "version": 1,
      "views": {
       "default_view": {
        "col": 0,
        "height": 2,
        "row": 82,
        "width": 12
       }
      }
     }
    }
   },
   "source": [
    "### 1.2. Matériau"
   ]
  },
  {
   "cell_type": "markdown",
   "id": "270fb764",
   "metadata": {},
   "source": [
    "#### Maçonnerie"
   ]
  },
  {
   "cell_type": "markdown",
   "id": "0cf466fe",
   "metadata": {
    "ExecuteTime": {
     "end_time": "2022-05-10T15:23:27.392386Z",
     "start_time": "2022-05-10T15:23:27.376764Z"
    }
   },
   "source": [
    "*Matériau des blocs de maçonnerie*"
   ]
  },
  {
   "cell_type": "code",
   "execution_count": 2,
   "id": "b5595538",
   "metadata": {
    "ExecuteTime": {
     "end_time": "2022-05-10T16:25:14.384172Z",
     "start_time": "2022-05-10T16:25:14.337354Z"
    }
   },
   "outputs": [
    {
     "data": {
      "application/vnd.jupyter.widget-view+json": {
       "model_id": "e31a741470584ac98c79c2e80b88e064",
       "version_major": 2,
       "version_minor": 0
      },
      "text/plain": [
       "Dropdown(index=5, options=('Terre cuite', 'Silico-calcaire', 'Béton de granulats', 'Béton cellulaire autoclavé…"
      ]
     },
     "metadata": {},
     "output_type": "display_data"
    }
   ],
   "source": [
    "mat=widgets.Dropdown(\n",
    "    options=['Terre cuite','Silico-calcaire','Béton de granulats','Béton cellulaire autoclavé','Pierre reconstitué','Pierre naturelle'],\n",
    "    value='Pierre naturelle',\n",
    "    description='',\n",
    "    disabled=False,\n",
    ")\n",
    "display(mat)"
   ]
  },
  {
   "cell_type": "markdown",
   "id": "58727dea",
   "metadata": {},
   "source": [
    "*Résistance normalisée moyenne à la compressiondes éléments*"
   ]
  },
  {
   "cell_type": "code",
   "execution_count": 3,
   "id": "8e1b892f",
   "metadata": {
    "ExecuteTime": {
     "end_time": "2022-05-10T16:25:14.399793Z",
     "start_time": "2022-05-10T16:25:14.384172Z"
    },
    "extensions": {
     "jupyter_dashboards": {
      "version": 1,
      "views": {
       "default_view": {
        "col": 0,
        "height": 2,
        "row": 80,
        "width": 12
       }
      }
     }
    }
   },
   "outputs": [
    {
     "data": {
      "application/vnd.jupyter.widget-view+json": {
       "model_id": "a3c16bfc548640a5add4df5d47e75e0b",
       "version_major": 2,
       "version_minor": 0
      },
      "text/plain": [
       "BoundedFloatText(value=5.0, description='$$f_{b} [MPa] :$$', max=200.0, step=1.0)"
      ]
     },
     "metadata": {},
     "output_type": "display_data"
    }
   ],
   "source": [
    "fb=widgets.BoundedFloatText(\n",
    "    value=5,\n",
    "    min=0,\n",
    "    max=200,\n",
    "    step=1,\n",
    "    description='$$f_{b} [MPa] :$$',\n",
    "    disabled=False)\n",
    "fb"
   ]
  },
  {
   "cell_type": "markdown",
   "id": "a75f4082",
   "metadata": {},
   "source": [
    "#### Mortier"
   ]
  },
  {
   "cell_type": "markdown",
   "id": "5abb4eb2",
   "metadata": {},
   "source": [
    "*Type de montage*"
   ]
  },
  {
   "cell_type": "code",
   "execution_count": 4,
   "id": "4743d1a9",
   "metadata": {
    "ExecuteTime": {
     "end_time": "2022-05-10T16:25:14.415414Z",
     "start_time": "2022-05-10T16:25:14.399793Z"
    }
   },
   "outputs": [
    {
     "data": {
      "application/vnd.jupyter.widget-view+json": {
       "model_id": "2c5caa61b51a41de81034a3a12a98e98",
       "version_major": 2,
       "version_minor": 0
      },
      "text/plain": [
       "Dropdown(options=('Mortier à usage courant', 'Mortier de joints minces', 'Mortier allégé 600kg/m3<ρ<800kg/m3',…"
      ]
     },
     "metadata": {},
     "output_type": "display_data"
    }
   ],
   "source": [
    "montage=widgets.Dropdown(\n",
    "    options=['Mortier à usage courant','Mortier de joints minces','Mortier allégé 600kg/m3<ρ<800kg/m3','Mortier allégé 800kg/m3<ρ<1300kg/m3'],\n",
    "    value='Mortier à usage courant',\n",
    "    description='',\n",
    "    disabled=False,\n",
    ")\n",
    "display(montage)"
   ]
  },
  {
   "cell_type": "markdown",
   "id": "f0616734",
   "metadata": {
    "ExecuteTime": {
     "end_time": "2022-05-10T10:28:18.804397Z",
     "start_time": "2022-05-10T10:28:18.788812Z"
    }
   },
   "source": [
    "*Résistance à la compressiondes du mortier*"
   ]
  },
  {
   "cell_type": "code",
   "execution_count": 5,
   "id": "1801aaf3",
   "metadata": {
    "ExecuteTime": {
     "end_time": "2022-05-10T16:25:14.437544Z",
     "start_time": "2022-05-10T16:25:14.415414Z"
    }
   },
   "outputs": [
    {
     "data": {
      "application/vnd.jupyter.widget-view+json": {
       "model_id": "0dd8b580ccf8403cba50bb26f5a60a9a",
       "version_major": 2,
       "version_minor": 0
      },
      "text/plain": [
       "BoundedFloatText(value=3.0, description='$$f_{m} [MPa] :$$', max=200.0, step=1.0)"
      ]
     },
     "metadata": {},
     "output_type": "display_data"
    }
   ],
   "source": [
    "fm=widgets.BoundedFloatText(\n",
    "    value=3,\n",
    "    min=0,\n",
    "    max=200,\n",
    "    step=1,\n",
    "    description='$$f_{m} [MPa] :$$',\n",
    "    disabled=False)\n",
    "fm"
   ]
  },
  {
   "cell_type": "markdown",
   "id": "2fb5d39b",
   "metadata": {},
   "source": [
    "#### Coefficient partiel des matériaux"
   ]
  },
  {
   "cell_type": "code",
   "execution_count": 6,
   "id": "c40c3e79",
   "metadata": {
    "ExecuteTime": {
     "end_time": "2022-05-10T16:25:14.453211Z",
     "start_time": "2022-05-10T16:25:14.437544Z"
    }
   },
   "outputs": [
    {
     "data": {
      "application/vnd.jupyter.widget-view+json": {
       "model_id": "270b7ddf57f44aa790b4de175b8d5efb",
       "version_major": 2,
       "version_minor": 0
      },
      "text/plain": [
       "BoundedFloatText(value=1.5, description='$$\\\\gamma_{m} :$$', max=200.0, step=1.0)"
      ]
     },
     "metadata": {},
     "output_type": "display_data"
    }
   ],
   "source": [
    "gm=widgets.BoundedFloatText(\n",
    "    value=1.5,\n",
    "    min=0,\n",
    "    max=200,\n",
    "    step=1,\n",
    "    description='$$\\gamma_{m} :$$',\n",
    "    disabled=False)\n",
    "gm"
   ]
  },
  {
   "cell_type": "markdown",
   "id": "ad5f192f",
   "metadata": {
    "extensions": {
     "jupyter_dashboards": {
      "version": 1,
      "views": {
       "default_view": {
        "col": 0,
        "height": 2,
        "row": 66,
        "width": 12
       }
      }
     }
    },
    "hide_input": true
   },
   "source": [
    "### 1.3. Géométrie"
   ]
  },
  {
   "cell_type": "code",
   "execution_count": 7,
   "id": "d4aa21a3",
   "metadata": {
    "ExecuteTime": {
     "end_time": "2022-05-10T16:25:14.477661Z",
     "start_time": "2022-05-10T16:25:14.453211Z"
    }
   },
   "outputs": [
    {
     "data": {
      "application/vnd.jupyter.widget-view+json": {
       "model_id": "dcf6da749872482497e0d8a6265978b6",
       "version_major": 2,
       "version_minor": 0
      },
      "text/plain": [
       "Image(value=b'\\x89PNG\\r\\n\\x1a\\n\\x00\\x00\\x00\\rIHDR\\x00\\x00\\x02\\xb1\\x00\\x00\\x01\\xb0\\x08\\x06\\x00\\x00\\x00\\xben=\\x1…"
      ]
     },
     "metadata": {},
     "output_type": "display_data"
    }
   ],
   "source": [
    "file = open(\"charges_cons.png\", \"rb\")\n",
    "image = file.read()\n",
    "widgets.Image(\n",
    "    value=image,\n",
    "    format='png',\n",
    "    width=600,\n",
    "    height=600,\n",
    ")"
   ]
  },
  {
   "cell_type": "markdown",
   "id": "595f2df4",
   "metadata": {},
   "source": [
    "#### Hauteur du mur par rapport au niveau de la charge"
   ]
  },
  {
   "cell_type": "code",
   "execution_count": 8,
   "id": "c447f9b6",
   "metadata": {
    "ExecuteTime": {
     "end_time": "2022-05-10T16:25:14.493267Z",
     "start_time": "2022-05-10T16:25:14.477661Z"
    }
   },
   "outputs": [
    {
     "data": {
      "application/vnd.jupyter.widget-view+json": {
       "model_id": "32460eba4ae642d796d6bc30d9722ad3",
       "version_major": 2,
       "version_minor": 0
      },
      "text/plain": [
       "FloatSlider(value=2.0, continuous_update=False, description='$$h_{c} [m]$$', max=5.0, min=1.0, readout_format=…"
      ]
     },
     "metadata": {},
     "output_type": "display_data"
    }
   ],
   "source": [
    "hc=widgets.FloatSlider(\n",
    "    value=2,\n",
    "    min=1,\n",
    "    max=5,\n",
    "    step=0.1,\n",
    "    description=('$$h_{c} [m]$$'),\n",
    "    disabled=False,\n",
    "    continuous_update=False,\n",
    "    orientation='horizontal',\n",
    "    readout=True,\n",
    "    readout_format='.1f',)\n",
    "\n",
    "hc"
   ]
  },
  {
   "cell_type": "markdown",
   "id": "e15d02af",
   "metadata": {},
   "source": [
    "#### Epaisseur du mur"
   ]
  },
  {
   "cell_type": "code",
   "execution_count": 9,
   "id": "dfef6420",
   "metadata": {
    "ExecuteTime": {
     "end_time": "2022-05-10T16:25:14.508868Z",
     "start_time": "2022-05-10T16:25:14.493267Z"
    }
   },
   "outputs": [
    {
     "data": {
      "application/vnd.jupyter.widget-view+json": {
       "model_id": "6b26e5f39e074f78a6259a346671aee8",
       "version_major": 2,
       "version_minor": 0
      },
      "text/plain": [
       "FloatSlider(value=200.0, continuous_update=False, description='$$t [mm]$$', max=600.0, min=50.0, readout_forma…"
      ]
     },
     "metadata": {},
     "output_type": "display_data"
    }
   ],
   "source": [
    "t=widgets.FloatSlider(\n",
    "    value=200,\n",
    "    min=50,\n",
    "    max=600,\n",
    "    step=10,\n",
    "    description=('$$t [mm]$$'),\n",
    "    disabled=False,\n",
    "    continuous_update=False,\n",
    "    orientation='horizontal',\n",
    "    readout=True,\n",
    "    readout_format='.1f',)\n",
    "\n",
    "t"
   ]
  },
  {
   "cell_type": "markdown",
   "id": "11edf7b5",
   "metadata": {
    "ExecuteTime": {
     "end_time": "2022-05-10T10:28:18.920289Z",
     "start_time": "2022-05-10T10:28:18.904662Z"
    }
   },
   "source": [
    "#### Longeur du mur"
   ]
  },
  {
   "cell_type": "code",
   "execution_count": 10,
   "id": "4ceeb828",
   "metadata": {
    "ExecuteTime": {
     "end_time": "2022-05-10T16:25:14.524081Z",
     "start_time": "2022-05-10T16:25:14.512944Z"
    }
   },
   "outputs": [
    {
     "data": {
      "application/vnd.jupyter.widget-view+json": {
       "model_id": "3fe37235904c4acaa28a9228559f8506",
       "version_major": 2,
       "version_minor": 0
      },
      "text/plain": [
       "FloatSlider(value=3.0, continuous_update=False, description='$$l [m]$$', max=10.0, min=0.5, readout_format='.1…"
      ]
     },
     "metadata": {},
     "output_type": "display_data"
    }
   ],
   "source": [
    "l=widgets.FloatSlider(\n",
    "    value=3,\n",
    "    min=0.5,\n",
    "    max=10,\n",
    "    step=0.1,\n",
    "    description=('$$l [m]$$'),\n",
    "    disabled=False,\n",
    "    continuous_update=False,\n",
    "    orientation='horizontal',\n",
    "    readout=True,\n",
    "    readout_format='.1f',)\n",
    "\n",
    "l"
   ]
  },
  {
   "cell_type": "markdown",
   "id": "7e4f7918",
   "metadata": {},
   "source": [
    "#### Longeur de l'appui de la charge "
   ]
  },
  {
   "cell_type": "code",
   "execution_count": 11,
   "id": "f70bd6dd",
   "metadata": {
    "ExecuteTime": {
     "end_time": "2022-05-10T16:25:14.539732Z",
     "start_time": "2022-05-10T16:25:14.524081Z"
    }
   },
   "outputs": [
    {
     "data": {
      "application/vnd.jupyter.widget-view+json": {
       "model_id": "dc17a6175aea42f3aa257eb82e58f8d5",
       "version_major": 2,
       "version_minor": 0
      },
      "text/plain": [
       "FloatSlider(value=200.0, continuous_update=False, description='$$l_{c} [mm]$$', max=600.0, min=50.0, readout_f…"
      ]
     },
     "metadata": {},
     "output_type": "display_data"
    }
   ],
   "source": [
    "lc=widgets.FloatSlider(\n",
    "    value=200,\n",
    "    min=50,\n",
    "    max=600,\n",
    "    step=10,\n",
    "    description=('$$l_{c} [mm]$$'),\n",
    "    disabled=False,\n",
    "    continuous_update=False,\n",
    "    orientation='horizontal',\n",
    "    readout=True,\n",
    "    readout_format='.1f',)\n",
    "\n",
    "lc"
   ]
  },
  {
   "cell_type": "markdown",
   "id": "04ee3018",
   "metadata": {},
   "source": [
    "#### Largeur de l'appui de la charge "
   ]
  },
  {
   "cell_type": "code",
   "execution_count": 12,
   "id": "e6d5037e",
   "metadata": {
    "ExecuteTime": {
     "end_time": "2022-05-10T16:25:14.565687Z",
     "start_time": "2022-05-10T16:25:14.539732Z"
    }
   },
   "outputs": [
    {
     "data": {
      "application/vnd.jupyter.widget-view+json": {
       "model_id": "f8c2c9f5d0c94420b581b4b377ee637c",
       "version_major": 2,
       "version_minor": 0
      },
      "text/plain": [
       "FloatSlider(value=200.0, continuous_update=False, description='$$b_{c} [mm]$$', max=200.0, min=20.0, readout_f…"
      ]
     },
     "metadata": {},
     "output_type": "display_data"
    }
   ],
   "source": [
    "bc=widgets.FloatSlider(\n",
    "    value=t.value,\n",
    "    min=20,\n",
    "    max=t.value,\n",
    "    step=10,\n",
    "    description=('$$b_{c} [mm]$$'),\n",
    "    disabled=False,\n",
    "    continuous_update=False,\n",
    "    orientation='horizontal',\n",
    "    readout=True,\n",
    "    readout_format='.1f',)\n",
    "\n",
    "bc"
   ]
  },
  {
   "cell_type": "markdown",
   "id": "02eb97da",
   "metadata": {},
   "source": [
    "#### Distance de l'extrémité du mur au bord le plus proche de la surface chargée "
   ]
  },
  {
   "cell_type": "code",
   "execution_count": 13,
   "id": "af60f11e",
   "metadata": {
    "ExecuteTime": {
     "end_time": "2022-05-10T16:25:14.595470Z",
     "start_time": "2022-05-10T16:25:14.565687Z"
    }
   },
   "outputs": [
    {
     "data": {
      "application/vnd.jupyter.widget-view+json": {
       "model_id": "43b81ab4d3b349299d303360f89206cf",
       "version_major": 2,
       "version_minor": 0
      },
      "text/plain": [
       "FloatSlider(value=200.0, continuous_update=False, description='$$a_{1} [mm]$$', max=600.0, readout_format='.1f…"
      ]
     },
     "metadata": {},
     "output_type": "display_data"
    }
   ],
   "source": [
    "a1=widgets.FloatSlider(\n",
    "    value=200,\n",
    "    min=0,\n",
    "    max=600,\n",
    "    step=10,\n",
    "    description=('$$a_{1} [mm]$$'),\n",
    "    disabled=False,\n",
    "    continuous_update=False,\n",
    "    orientation='horizontal',\n",
    "    readout=True,\n",
    "    readout_format='.1f',)\n",
    "\n",
    "a1"
   ]
  },
  {
   "cell_type": "markdown",
   "id": "031eb166",
   "metadata": {},
   "source": [
    "### 1.4. Chargements ELU"
   ]
  },
  {
   "cell_type": "code",
   "execution_count": 14,
   "id": "0862ac8d",
   "metadata": {
    "ExecuteTime": {
     "end_time": "2022-05-10T16:25:14.611113Z",
     "start_time": "2022-05-10T16:25:14.595470Z"
    }
   },
   "outputs": [
    {
     "data": {
      "application/vnd.jupyter.widget-view+json": {
       "model_id": "14c68e11220744c981017e04b1b6888e",
       "version_major": 2,
       "version_minor": 0
      },
      "text/plain": [
       "BoundedFloatText(value=0.0, description='$$N_{Edc} [kN] :$$', max=200.0, step=1.0)"
      ]
     },
     "metadata": {},
     "output_type": "display_data"
    }
   ],
   "source": [
    "ned=widgets.BoundedFloatText(\n",
    "    value=0,\n",
    "    min=0,\n",
    "    max=200,\n",
    "    step=1,\n",
    "    description='$$N_{Edc} [kN] :$$',\n",
    "    disabled=False)\n",
    "ned"
   ]
  },
  {
   "cell_type": "code",
   "execution_count": 15,
   "id": "10ff3bcf",
   "metadata": {
    "ExecuteTime": {
     "end_time": "2022-05-10T16:25:14.637780Z",
     "start_time": "2022-05-10T16:25:14.611113Z"
    }
   },
   "outputs": [
    {
     "data": {
      "application/vnd.jupyter.widget-view+json": {
       "model_id": "8acb25d517f5489cb04c40085204423b",
       "version_major": 2,
       "version_minor": 0
      },
      "text/plain": [
       "Button(description='Valider', style=ButtonStyle())"
      ]
     },
     "metadata": {},
     "output_type": "display_data"
    },
    {
     "data": {
      "application/javascript": [
       "IPython.notebook.execute_cell_range(IPython.notebook.get_selected_index()+1, IPython.notebook.get_selected_index()+20)"
      ],
      "text/plain": [
       "<IPython.core.display.Javascript object>"
      ]
     },
     "metadata": {},
     "output_type": "display_data"
    },
    {
     "data": {
      "application/javascript": [
       "IPython.notebook.execute_cell_range(IPython.notebook.get_selected_index()+1, IPython.notebook.get_selected_index()+20)"
      ],
      "text/plain": [
       "<IPython.core.display.Javascript object>"
      ]
     },
     "metadata": {},
     "output_type": "display_data"
    },
    {
     "data": {
      "application/javascript": [
       "IPython.notebook.execute_cell_range(IPython.notebook.get_selected_index()+1, IPython.notebook.get_selected_index()+20)"
      ],
      "text/plain": [
       "<IPython.core.display.Javascript object>"
      ]
     },
     "metadata": {},
     "output_type": "display_data"
    }
   ],
   "source": [
    "def run_all(ev):\n",
    "    display(Javascript('IPython.notebook.execute_cell_range(IPython.notebook.get_selected_index()+1, IPython.notebook.get_selected_index()+20)'))\n",
    "\n",
    "button = widgets.Button(description=\"Valider\")\n",
    "\n",
    "button.on_click(run_all)\n",
    "display(button)"
   ]
  },
  {
   "cell_type": "markdown",
   "id": "bed9bb6d",
   "metadata": {},
   "source": [
    "### 2. Vérifications"
   ]
  },
  {
   "cell_type": "markdown",
   "id": "598e82a0",
   "metadata": {},
   "source": [
    "#### 2.1. Calcul de la surface d'appui effective "
   ]
  },
  {
   "cell_type": "markdown",
   "id": "4ddc9fa6",
   "metadata": {},
   "source": [
    "*$$ A_{ef}=l_{ef,m}\\times t=min(l_{c}+0,57 \\times h_{c} ; l_{c}+0.28 \\times h_{c}+a_{1};l) \\times t $$* "
   ]
  },
  {
   "cell_type": "code",
   "execution_count": 31,
   "id": "68747c19",
   "metadata": {
    "ExecuteTime": {
     "end_time": "2022-05-10T16:26:28.277220Z",
     "start_time": "2022-05-10T16:26:28.261633Z"
    }
   },
   "outputs": [],
   "source": [
    "lefm=min(lc.value+0.57*hc.value*1000,lc.value+0.28*hc.value*1000+a1.value,l.value*1000)\n",
    "\n",
    "Aef=lefm*t.value"
   ]
  },
  {
   "cell_type": "code",
   "execution_count": 32,
   "id": "4788bd84",
   "metadata": {
    "ExecuteTime": {
     "end_time": "2022-05-10T16:26:28.292841Z",
     "start_time": "2022-05-10T16:26:28.277220Z"
    }
   },
   "outputs": [],
   "source": [
    "Ab=lc.value*bc.value\n",
    "\n",
    "tx1=(Ab/Aef)\n",
    "\n",
    "tx1=round(tx1,2)\n",
    "\n",
    "if tx1>0.45:\n",
    "    tx11='NOT Ok'\n",
    "else:\n",
    "    tx11='Ok'"
   ]
  },
  {
   "cell_type": "markdown",
   "id": "0c1555a6",
   "metadata": {
    "variables": {
     "Aef": "152000.0",
     "lefm": "760.0",
     "tx1": "0.26",
     "tx11": "Ok"
    }
   },
   "source": [
    "|Variable|Valeur|\n",
    "|-|-|\n",
    "|$$l_{ef,m} [mm]$$|{{lefm}}|\n",
    "|$$A_{ef} [mm^2]$$|{{Aef}}|\n",
    "|$$\\frac{A_{b}}{A_{ef}}$$|{{tx1}}|\n",
    "|$$\\frac{A_{b}}{A_{ef}}\\leq 0,45$$|{{tx11}}|"
   ]
  },
  {
   "cell_type": "markdown",
   "id": "c229fb85",
   "metadata": {},
   "source": [
    "#### 2.2. Calcul du facteur de majoration applicable aux charges concentrées "
   ]
  },
  {
   "cell_type": "markdown",
   "id": "cec96206",
   "metadata": {},
   "source": [
    "$$1\\leq\\beta=(1+0,3.\\frac{a_{1}}{h _{c}}).(1,5-1,1.\\frac{A_{b}}{A_{ef}})\\leq min(1,25+\\frac{a_{1}}{h_{c}};1,5)$$\n"
   ]
  },
  {
   "cell_type": "code",
   "execution_count": 33,
   "id": "609d2726",
   "metadata": {
    "ExecuteTime": {
     "end_time": "2022-05-10T16:26:28.384241Z",
     "start_time": "2022-05-10T16:26:28.370542Z"
    }
   },
   "outputs": [],
   "source": [
    "beta=(1+0.3*(a1.value/(hc.value*1000)))*(1.5-1.1*(Ab/Aef))\n",
    "\n",
    "min1=1.25+(a1.value/(hc.value*1000))\n",
    "\n",
    "beta=min(beta,min1,1.5)\n",
    "\n",
    "if beta<1:\n",
    "    beta=1\n",
    "\n",
    "beta=round(beta,2)"
   ]
  },
  {
   "cell_type": "markdown",
   "id": "ff02480c",
   "metadata": {
    "variables": {
     "beta": "1.21"
    }
   },
   "source": [
    "|Variable|Valeur|\n",
    "|-|-|\n",
    "|$$\\beta$$|{{beta}}|"
   ]
  },
  {
   "cell_type": "markdown",
   "id": "6bad39dc",
   "metadata": {},
   "source": [
    "#### 2.3. Valeur de la resistance de calcul"
   ]
  },
  {
   "cell_type": "code",
   "execution_count": 34,
   "id": "e4692a55",
   "metadata": {
    "ExecuteTime": {
     "end_time": "2022-05-10T16:26:28.417888Z",
     "start_time": "2022-05-10T16:26:28.401250Z"
    }
   },
   "outputs": [],
   "source": [
    "if montage.value=='Mortier à usage courant': \n",
    "    if mat.value=='Terre cuite' or 'Silico-calcaire' or 'Béton de granulats' or 'Béton cellulaire autoclavé':\n",
    "        k=0.55\n",
    "    else:\n",
    "        k=0.45\n",
    "elif montage.value=='Mortier de joints minces':\n",
    "    if mat.value=='Terre cuite' or 'Pierre reconstituée' or 'Pierre naturelle':\n",
    "        k=0.75\n",
    "    else:\n",
    "        k=0.8\n",
    "elif montage.value=='Mortier allégé 600kg/m3<ρ<800kg/m3':\n",
    "    if mat.value=='Terre cuite':\n",
    "        k=0.3\n",
    "    elif mat.value=='Silico-calcaire':\n",
    "        k=0.2\n",
    "    else:\n",
    "        k=0.45\n",
    "else:\n",
    "    if mat.value=='Terre cuite':\n",
    "        k=0.4\n",
    "    elif mat.value=='Silico-calcaire':\n",
    "        k=0.25\n",
    "    else:\n",
    "        k=0.45\n",
    "        \n",
    "if montage.value=='Mortier à usage courant' or 'Mortier allégé 600kg/m3<ρ<800kg/m3' or 'Mortier allégé 800kg/m3<ρ<1300kg/m3':\n",
    "    fk=k*fb.value**0.7*fm.value**0.3\n",
    "else:\n",
    "    fk=k*fb.value**0.7\n",
    "\n",
    "fk=round(fk,2)\n",
    "    \n",
    "fd=fk/gm.value\n",
    "\n",
    "fd=round(fd,2)"
   ]
  },
  {
   "cell_type": "markdown",
   "id": "147420d6",
   "metadata": {
    "variables": {
     "fd": "0.79",
     "fk": "2.36",
     "gm.value": "3.0"
    }
   },
   "source": [
    "|Variable|Valeur|\n",
    "|-|-|\n",
    "|$$f_{k} [MPa]$$|{{fk}}|\n",
    "|$$\\gamma_{m}$$|{{gm.value}}|\n",
    "|$$f_{d} [MPa]$$|{{fd}}|"
   ]
  },
  {
   "cell_type": "markdown",
   "id": "77ce893a",
   "metadata": {},
   "source": [
    "#### 2.4. Effort résitant "
   ]
  },
  {
   "cell_type": "code",
   "execution_count": 35,
   "id": "6f6773c7",
   "metadata": {
    "ExecuteTime": {
     "end_time": "2022-05-10T16:26:28.493102Z",
     "start_time": "2022-05-10T16:26:28.477481Z"
    }
   },
   "outputs": [],
   "source": [
    "Nrd=beta*Ab*fd\n",
    "\n",
    "Nrd=floor(Nrd/1000)\n",
    "\n",
    "tx2=(ned.value/Nrd)*100\n",
    "\n",
    "tx2=ceil(tx2)"
   ]
  },
  {
   "cell_type": "markdown",
   "id": "a24a9bcc",
   "metadata": {
    "ExecuteTime": {
     "end_time": "2022-05-10T16:13:18.203997Z",
     "start_time": "2022-05-10T16:13:18.172726Z"
    },
    "variables": {
     "Nrd": "38",
     "ned.value": "42.0",
     "tx2": "111"
    }
   },
   "source": [
    "|Variable|Valeur|\n",
    "|-|-|\n",
    "|$$N_{Ed} [kN]$$|{{ned.value}}|\n",
    "|$$N_{Rd} [kN]$$|{{Nrd}}|\n",
    "|**Taux de travail**|**{{tx2}}%**|"
   ]
  },
  {
   "cell_type": "code",
   "execution_count": null,
   "id": "011ec50f",
   "metadata": {},
   "outputs": [],
   "source": []
  },
  {
   "cell_type": "code",
   "execution_count": null,
   "id": "fe0c89c4",
   "metadata": {},
   "outputs": [],
   "source": []
  },
  {
   "cell_type": "code",
   "execution_count": null,
   "id": "e07767d5",
   "metadata": {},
   "outputs": [],
   "source": []
  },
  {
   "cell_type": "code",
   "execution_count": null,
   "id": "ca5e1b2d",
   "metadata": {},
   "outputs": [],
   "source": []
  },
  {
   "cell_type": "code",
   "execution_count": null,
   "id": "f82dfe05",
   "metadata": {},
   "outputs": [],
   "source": []
  },
  {
   "cell_type": "code",
   "execution_count": null,
   "id": "548fc59a",
   "metadata": {},
   "outputs": [],
   "source": []
  },
  {
   "cell_type": "code",
   "execution_count": null,
   "id": "41b7f5ea",
   "metadata": {},
   "outputs": [],
   "source": []
  },
  {
   "cell_type": "code",
   "execution_count": null,
   "id": "ac2936e0",
   "metadata": {},
   "outputs": [],
   "source": []
  },
  {
   "cell_type": "code",
   "execution_count": null,
   "id": "8f1c1e4b",
   "metadata": {},
   "outputs": [],
   "source": []
  },
  {
   "cell_type": "code",
   "execution_count": null,
   "id": "af325535",
   "metadata": {},
   "outputs": [],
   "source": []
  },
  {
   "cell_type": "code",
   "execution_count": null,
   "id": "ab50c55c",
   "metadata": {},
   "outputs": [],
   "source": []
  }
 ],
 "metadata": {
  "extensions": {
   "jupyter_dashboards": {
    "activeView": "default_view",
    "version": 1,
    "views": {
     "default_view": {
      "cellMargin": 10,
      "defaultCellHeight": 40,
      "maxColumns": 12,
      "name": "active_view",
      "type": "grid"
     }
    }
   }
  },
  "hide_input": true,
  "kernelspec": {
   "display_name": "Python 3 (ipykernel)",
   "language": "python",
   "name": "python3"
  },
  "language_info": {
   "codemirror_mode": {
    "name": "ipython",
    "version": 3
   },
   "file_extension": ".py",
   "mimetype": "text/x-python",
   "name": "python",
   "nbconvert_exporter": "python",
   "pygments_lexer": "ipython3",
   "version": "3.10.0"
  }
 },
 "nbformat": 4,
 "nbformat_minor": 5
}
