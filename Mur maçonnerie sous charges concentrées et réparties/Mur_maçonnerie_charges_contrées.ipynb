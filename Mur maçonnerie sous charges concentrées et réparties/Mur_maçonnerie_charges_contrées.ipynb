{
 "cells": [
  {
   "cell_type": "markdown",
   "id": "cd69c23e",
   "metadata": {
    "extensions": {
     "jupyter_dashboards": {
      "version": 1,
      "views": {
       "default_view": {
        "col": 0,
        "height": 2,
        "row": 90,
        "width": 12
       }
      }
     }
    }
   },
   "source": [
    "# Mur en maçonnerie soumis à des charges concentrées "
   ]
  },
  {
   "cell_type": "code",
   "execution_count": 1,
   "id": "5c07b685",
   "metadata": {
    "ExecuteTime": {
     "end_time": "2022-05-11T12:13:47.945481Z",
     "start_time": "2022-05-11T12:13:47.317268Z"
    },
    "extensions": {
     "jupyter_dashboards": {
      "version": 1,
      "views": {
       "default_view": {
        "hidden": true
       }
      }
     }
    }
   },
   "outputs": [],
   "source": [
    "## Importation des différentes bibliothèques nécéssaires\n",
    "\n",
    "from math import *\n",
    "import ipywidgets as widgets\n",
    "from tkinter import *\n",
    "import ipywidgets as widgets\n",
    "import matplotlib.pyplot as plt\n",
    "import numpy as np\n",
    "from IPython.display import Javascript, display\n",
    "from ipywidgets import widgets\n",
    "import pandas as pd\n",
    "from math import *\n",
    "import matplotlib.pyplot as plt\n",
    "import math\n",
    "from ipycanvas import Canvas\n",
    "from ipycanvas import Canvas, hold_canvas"
   ]
  },
  {
   "cell_type": "markdown",
   "id": "234a9eb6",
   "metadata": {
    "extensions": {
     "jupyter_dashboards": {
      "version": 1,
      "views": {
       "default_view": {
        "col": 0,
        "height": 2,
        "row": 86,
        "width": 12
       }
      }
     }
    }
   },
   "source": [
    "## 1. Données d'entrée"
   ]
  },
  {
   "cell_type": "markdown",
   "id": "aef20aed",
   "metadata": {
    "extensions": {
     "jupyter_dashboards": {
      "version": 1,
      "views": {
       "default_view": {
        "col": 0,
        "height": 2,
        "row": 84,
        "width": 12
       }
      }
     }
    }
   },
   "source": [
    "### 1.1. Références normatives\n",
    "\n",
    "*- NF EN 1996 + AN : Calcul des ouvrages en maçonnerie*\n",
    "\n",
    "*- DTU 20.1 : Ouvrages en maçonnerie de petits éléments*\n",
    "\n",
    "*-Valide pour murs à joints non interrompus, réalisés avec des blocs du groupe 1 (blocs pleins)*"
   ]
  },
  {
   "cell_type": "markdown",
   "id": "2664dfe8",
   "metadata": {
    "extensions": {
     "jupyter_dashboards": {
      "version": 1,
      "views": {
       "default_view": {
        "col": 0,
        "height": 2,
        "row": 82,
        "width": 12
       }
      }
     }
    }
   },
   "source": [
    "### 1.2. Matériau"
   ]
  },
  {
   "cell_type": "markdown",
   "id": "270fb764",
   "metadata": {},
   "source": [
    "#### Maçonnerie"
   ]
  },
  {
   "cell_type": "markdown",
   "id": "0cf466fe",
   "metadata": {
    "ExecuteTime": {
     "end_time": "2022-05-10T15:23:27.392386Z",
     "start_time": "2022-05-10T15:23:27.376764Z"
    }
   },
   "source": [
    "*Matériau des blocs de maçonnerie*"
   ]
  },
  {
   "cell_type": "code",
   "execution_count": 2,
   "id": "b5595538",
   "metadata": {
    "ExecuteTime": {
     "end_time": "2022-05-11T12:13:47.987733Z",
     "start_time": "2022-05-11T12:13:47.945481Z"
    }
   },
   "outputs": [
    {
     "data": {
      "application/vnd.jupyter.widget-view+json": {
       "model_id": "34f1b5bf721b459f84fc8b61183949f6",
       "version_major": 2,
       "version_minor": 0
      },
      "text/plain": [
       "Dropdown(index=5, options=('Terre cuite', 'Silico-calcaire', 'Béton de granulats', 'Béton cellulaire autoclavé…"
      ]
     },
     "metadata": {},
     "output_type": "display_data"
    }
   ],
   "source": [
    "mat=widgets.Dropdown(\n",
    "    options=['Terre cuite','Silico-calcaire','Béton de granulats','Béton cellulaire autoclavé','Pierre reconstitué','Pierre naturelle'],\n",
    "    value='Pierre naturelle',\n",
    "    description='',\n",
    "    disabled=False,\n",
    ")\n",
    "display(mat)"
   ]
  },
  {
   "cell_type": "markdown",
   "id": "58727dea",
   "metadata": {},
   "source": [
    "*Résistance normalisée moyenne à la compressiondes éléments*"
   ]
  },
  {
   "cell_type": "code",
   "execution_count": 3,
   "id": "8e1b892f",
   "metadata": {
    "ExecuteTime": {
     "end_time": "2022-05-11T12:13:48.003354Z",
     "start_time": "2022-05-11T12:13:47.987733Z"
    },
    "extensions": {
     "jupyter_dashboards": {
      "version": 1,
      "views": {
       "default_view": {
        "col": 0,
        "height": 2,
        "row": 80,
        "width": 12
       }
      }
     }
    }
   },
   "outputs": [
    {
     "data": {
      "application/vnd.jupyter.widget-view+json": {
       "model_id": "136af755c8034cfe8004fae14b3bfae0",
       "version_major": 2,
       "version_minor": 0
      },
      "text/plain": [
       "BoundedFloatText(value=5.0, description='$$f_{b} [MPa] :$$', max=200.0, step=1.0)"
      ]
     },
     "metadata": {},
     "output_type": "display_data"
    }
   ],
   "source": [
    "fb=widgets.BoundedFloatText(\n",
    "    value=5,\n",
    "    min=0,\n",
    "    max=200,\n",
    "    step=1,\n",
    "    description='$$f_{b} [MPa] :$$',\n",
    "    disabled=False)\n",
    "fb"
   ]
  },
  {
   "cell_type": "markdown",
   "id": "a75f4082",
   "metadata": {},
   "source": [
    "#### Mortier"
   ]
  },
  {
   "cell_type": "markdown",
   "id": "5abb4eb2",
   "metadata": {},
   "source": [
    "*Type de mortier*"
   ]
  },
  {
   "cell_type": "code",
   "execution_count": 4,
   "id": "4743d1a9",
   "metadata": {
    "ExecuteTime": {
     "end_time": "2022-05-11T12:13:48.018982Z",
     "start_time": "2022-05-11T12:13:48.003354Z"
    }
   },
   "outputs": [
    {
     "data": {
      "application/vnd.jupyter.widget-view+json": {
       "model_id": "9c6a3848fc02424d8ea8b631d2c8f5e3",
       "version_major": 2,
       "version_minor": 0
      },
      "text/plain": [
       "Dropdown(options=('Mortier à usage courant', 'Mortier de joints minces', 'Mortier allégé 600kg/m3<ρ<800kg/m3',…"
      ]
     },
     "metadata": {},
     "output_type": "display_data"
    }
   ],
   "source": [
    "montage=widgets.Dropdown(\n",
    "    options=['Mortier à usage courant','Mortier de joints minces','Mortier allégé 600kg/m3<ρ<800kg/m3','Mortier allégé 800kg/m3<ρ<1300kg/m3'],\n",
    "    value='Mortier à usage courant',\n",
    "    description='',\n",
    "    disabled=False,\n",
    ")\n",
    "display(montage)"
   ]
  },
  {
   "cell_type": "markdown",
   "id": "f0616734",
   "metadata": {
    "ExecuteTime": {
     "end_time": "2022-05-10T10:28:18.804397Z",
     "start_time": "2022-05-10T10:28:18.788812Z"
    }
   },
   "source": [
    "*Résistance à la compressiondes du mortier*"
   ]
  },
  {
   "cell_type": "code",
   "execution_count": 5,
   "id": "1801aaf3",
   "metadata": {
    "ExecuteTime": {
     "end_time": "2022-05-11T12:13:48.034120Z",
     "start_time": "2022-05-11T12:13:48.018982Z"
    }
   },
   "outputs": [
    {
     "data": {
      "application/vnd.jupyter.widget-view+json": {
       "model_id": "532874daa36e486ab33a95449996abd7",
       "version_major": 2,
       "version_minor": 0
      },
      "text/plain": [
       "BoundedFloatText(value=3.0, description='$$f_{m} [MPa] :$$', max=200.0, step=1.0)"
      ]
     },
     "metadata": {},
     "output_type": "display_data"
    }
   ],
   "source": [
    "fm=widgets.BoundedFloatText(\n",
    "    value=3,\n",
    "    min=0,\n",
    "    max=200,\n",
    "    step=1,\n",
    "    description='$$f_{m} [MPa] :$$',\n",
    "    disabled=False)\n",
    "fm"
   ]
  },
  {
   "cell_type": "markdown",
   "id": "2fb5d39b",
   "metadata": {},
   "source": [
    "#### Coefficient partiel des matériaux"
   ]
  },
  {
   "cell_type": "code",
   "execution_count": 96,
   "id": "9fe0424e",
   "metadata": {
    "ExecuteTime": {
     "end_time": "2022-05-11T12:50:07.646826Z",
     "start_time": "2022-05-11T12:50:07.615979Z"
    }
   },
   "outputs": [
    {
     "data": {
      "application/vnd.jupyter.widget-view+json": {
       "model_id": "96261cd9d4334c2c9fbe2a9f13d611d3",
       "version_major": 2,
       "version_minor": 0
      },
      "text/plain": [
       "Image(value=b'\\x89PNG\\r\\n\\x1a\\n\\x00\\x00\\x00\\rIHDR\\x00\\x00\\x02\\xf9\\x00\\x00\\x02\\x06\\x08\\x06\\x00\\x00\\x00\\xcex\\x90…"
      ]
     },
     "metadata": {},
     "output_type": "display_data"
    }
   ],
   "source": [
    "file = open(\"gamma.png\", \"rb\")\n",
    "image = file.read()\n",
    "widgets.Image(\n",
    "    value=image,\n",
    "    format='png',\n",
    "    width=600,\n",
    "    height=600,\n",
    ")"
   ]
  },
  {
   "cell_type": "code",
   "execution_count": 7,
   "id": "c40c3e79",
   "metadata": {
    "ExecuteTime": {
     "end_time": "2022-05-11T12:13:48.099309Z",
     "start_time": "2022-05-11T12:13:48.072253Z"
    }
   },
   "outputs": [
    {
     "data": {
      "application/vnd.jupyter.widget-view+json": {
       "model_id": "7bd54e899a7041b28834ff22c1c11edb",
       "version_major": 2,
       "version_minor": 0
      },
      "text/plain": [
       "BoundedFloatText(value=2.8, description='$$\\\\gamma_{m} :$$', max=200.0, step=1.0)"
      ]
     },
     "metadata": {},
     "output_type": "display_data"
    }
   ],
   "source": [
    "gm=widgets.BoundedFloatText(\n",
    "    value=2.8,\n",
    "    min=0,\n",
    "    max=200,\n",
    "    step=1,\n",
    "    description='$$\\gamma_{m} :$$',\n",
    "    disabled=False)\n",
    "gm"
   ]
  },
  {
   "cell_type": "markdown",
   "id": "ad5f192f",
   "metadata": {
    "extensions": {
     "jupyter_dashboards": {
      "version": 1,
      "views": {
       "default_view": {
        "col": 0,
        "height": 2,
        "row": 66,
        "width": 12
       }
      }
     }
    },
    "hide_input": true
   },
   "source": [
    "### 1.3. Géométrie"
   ]
  },
  {
   "cell_type": "code",
   "execution_count": 8,
   "id": "d4aa21a3",
   "metadata": {
    "ExecuteTime": {
     "end_time": "2022-05-11T12:13:48.115939Z",
     "start_time": "2022-05-11T12:13:48.100315Z"
    }
   },
   "outputs": [
    {
     "data": {
      "application/vnd.jupyter.widget-view+json": {
       "model_id": "ad66a38bd1ff4bcaa1e784e393724dd3",
       "version_major": 2,
       "version_minor": 0
      },
      "text/plain": [
       "Image(value=b'\\x89PNG\\r\\n\\x1a\\n\\x00\\x00\\x00\\rIHDR\\x00\\x00\\x02\\xb1\\x00\\x00\\x01\\xb0\\x08\\x06\\x00\\x00\\x00\\xben=\\x1…"
      ]
     },
     "metadata": {},
     "output_type": "display_data"
    }
   ],
   "source": [
    "file = open(\"charges_cons.png\", \"rb\")\n",
    "image = file.read()\n",
    "widgets.Image(\n",
    "    value=image,\n",
    "    format='png',\n",
    "    width=600,\n",
    "    height=600,\n",
    ")"
   ]
  },
  {
   "cell_type": "markdown",
   "id": "595f2df4",
   "metadata": {},
   "source": [
    "#### Hauteur du mur par rapport au niveau de la charge"
   ]
  },
  {
   "cell_type": "code",
   "execution_count": 9,
   "id": "c447f9b6",
   "metadata": {
    "ExecuteTime": {
     "end_time": "2022-05-11T12:13:48.131561Z",
     "start_time": "2022-05-11T12:13:48.115939Z"
    }
   },
   "outputs": [
    {
     "data": {
      "application/vnd.jupyter.widget-view+json": {
       "model_id": "7ee6e1016d5248d1a54a0d4dcc3eb310",
       "version_major": 2,
       "version_minor": 0
      },
      "text/plain": [
       "FloatSlider(value=2.0, continuous_update=False, description='$$h_{c} [m]$$', max=5.0, min=1.0, readout_format=…"
      ]
     },
     "metadata": {},
     "output_type": "display_data"
    }
   ],
   "source": [
    "hc=widgets.FloatSlider(\n",
    "    value=2,\n",
    "    min=1,\n",
    "    max=5,\n",
    "    step=0.1,\n",
    "    description=('$$h_{c} [m]$$'),\n",
    "    disabled=False,\n",
    "    continuous_update=False,\n",
    "    orientation='horizontal',\n",
    "    readout=True,\n",
    "    readout_format='.1f',)\n",
    "\n",
    "hc"
   ]
  },
  {
   "cell_type": "markdown",
   "id": "e15d02af",
   "metadata": {},
   "source": [
    "#### Epaisseur du mur"
   ]
  },
  {
   "cell_type": "code",
   "execution_count": 10,
   "id": "dfef6420",
   "metadata": {
    "ExecuteTime": {
     "end_time": "2022-05-11T12:13:48.147191Z",
     "start_time": "2022-05-11T12:13:48.131561Z"
    }
   },
   "outputs": [
    {
     "data": {
      "application/vnd.jupyter.widget-view+json": {
       "model_id": "6e5f91b5c07d45599b5859f3ac558c6f",
       "version_major": 2,
       "version_minor": 0
      },
      "text/plain": [
       "FloatSlider(value=200.0, continuous_update=False, description='$$t [mm]$$', max=600.0, min=50.0, readout_forma…"
      ]
     },
     "metadata": {},
     "output_type": "display_data"
    }
   ],
   "source": [
    "t=widgets.FloatSlider(\n",
    "    value=200,\n",
    "    min=50,\n",
    "    max=600,\n",
    "    step=10,\n",
    "    description=('$$t [mm]$$'),\n",
    "    disabled=False,\n",
    "    continuous_update=False,\n",
    "    orientation='horizontal',\n",
    "    readout=True,\n",
    "    readout_format='.1f',)\n",
    "\n",
    "t"
   ]
  },
  {
   "cell_type": "markdown",
   "id": "11edf7b5",
   "metadata": {
    "ExecuteTime": {
     "end_time": "2022-05-10T10:28:18.920289Z",
     "start_time": "2022-05-10T10:28:18.904662Z"
    }
   },
   "source": [
    "#### Longeur du mur"
   ]
  },
  {
   "cell_type": "code",
   "execution_count": 11,
   "id": "4ceeb828",
   "metadata": {
    "ExecuteTime": {
     "end_time": "2022-05-11T12:13:48.172332Z",
     "start_time": "2022-05-11T12:13:48.147191Z"
    }
   },
   "outputs": [
    {
     "data": {
      "application/vnd.jupyter.widget-view+json": {
       "model_id": "dcabfe8bd0044e27b7e099b332f3b656",
       "version_major": 2,
       "version_minor": 0
      },
      "text/plain": [
       "FloatSlider(value=3.0, continuous_update=False, description='$$l [m]$$', max=10.0, min=1.0, readout_format='.1…"
      ]
     },
     "metadata": {},
     "output_type": "display_data"
    }
   ],
   "source": [
    "l=widgets.FloatSlider(\n",
    "    value=3,\n",
    "    min=1,\n",
    "    max=10,\n",
    "    step=0.5,\n",
    "    description=('$$l [m]$$'),\n",
    "    disabled=False,\n",
    "    continuous_update=False,\n",
    "    orientation='horizontal',\n",
    "    readout=True,\n",
    "    readout_format='.1f',)\n",
    "\n",
    "l"
   ]
  },
  {
   "cell_type": "markdown",
   "id": "7e4f7918",
   "metadata": {},
   "source": [
    "#### Longeur de l'appui de la charge concentrée"
   ]
  },
  {
   "cell_type": "code",
   "execution_count": 12,
   "id": "f70bd6dd",
   "metadata": {
    "ExecuteTime": {
     "end_time": "2022-05-11T12:13:48.187948Z",
     "start_time": "2022-05-11T12:13:48.172332Z"
    }
   },
   "outputs": [
    {
     "data": {
      "application/vnd.jupyter.widget-view+json": {
       "model_id": "8f97ab63855f43f7823ca900f345d965",
       "version_major": 2,
       "version_minor": 0
      },
      "text/plain": [
       "FloatSlider(value=200.0, continuous_update=False, description='$$l_{c} [mm]$$', max=600.0, min=50.0, readout_f…"
      ]
     },
     "metadata": {},
     "output_type": "display_data"
    }
   ],
   "source": [
    "lc=widgets.FloatSlider(\n",
    "    value=200,\n",
    "    min=50,\n",
    "    max=600,\n",
    "    step=10,\n",
    "    description=('$$l_{c} [mm]$$'),\n",
    "    disabled=False,\n",
    "    continuous_update=False,\n",
    "    orientation='horizontal',\n",
    "    readout=True,\n",
    "    readout_format='.1f',)\n",
    "\n",
    "lc"
   ]
  },
  {
   "cell_type": "markdown",
   "id": "04ee3018",
   "metadata": {},
   "source": [
    "#### Largeur de l'appui de la charge concentrée"
   ]
  },
  {
   "cell_type": "code",
   "execution_count": 13,
   "id": "e6d5037e",
   "metadata": {
    "ExecuteTime": {
     "end_time": "2022-05-11T12:13:48.203573Z",
     "start_time": "2022-05-11T12:13:48.187948Z"
    }
   },
   "outputs": [
    {
     "data": {
      "application/vnd.jupyter.widget-view+json": {
       "model_id": "d597518ee03c478383b8e1a489c3f680",
       "version_major": 2,
       "version_minor": 0
      },
      "text/plain": [
       "FloatSlider(value=200.0, continuous_update=False, description='$$b_{c} [mm]$$', max=200.0, min=20.0, readout_f…"
      ]
     },
     "metadata": {},
     "output_type": "display_data"
    }
   ],
   "source": [
    "bc=widgets.FloatSlider(\n",
    "    value=t.value,\n",
    "    min=20,\n",
    "    max=t.value,\n",
    "    step=10,\n",
    "    description=('$$b_{c} [mm]$$'),\n",
    "    disabled=False,\n",
    "    continuous_update=False,\n",
    "    orientation='horizontal',\n",
    "    readout=True,\n",
    "    readout_format='.1f',)\n",
    "\n",
    "bc"
   ]
  },
  {
   "cell_type": "markdown",
   "id": "02eb97da",
   "metadata": {},
   "source": [
    "#### Distance de l'extrémité du mur au bord le plus proche de la surface chargée "
   ]
  },
  {
   "cell_type": "code",
   "execution_count": 14,
   "id": "af60f11e",
   "metadata": {
    "ExecuteTime": {
     "end_time": "2022-05-11T12:13:48.219190Z",
     "start_time": "2022-05-11T12:13:48.203573Z"
    }
   },
   "outputs": [
    {
     "data": {
      "application/vnd.jupyter.widget-view+json": {
       "model_id": "42ab2bbbd11943cd931c6cf9cd29280f",
       "version_major": 2,
       "version_minor": 0
      },
      "text/plain": [
       "FloatSlider(value=1.0, continuous_update=False, description='$$a_{1} [m]$$', max=10.0, readout_format='.1f', s…"
      ]
     },
     "metadata": {},
     "output_type": "display_data"
    }
   ],
   "source": [
    "a1=widgets.FloatSlider(\n",
    "    value=1,\n",
    "    min=0,\n",
    "    max=10,\n",
    "    step=0.2,\n",
    "    description=('$$a_{1} [m]$$'),\n",
    "    disabled=False,\n",
    "    continuous_update=False,\n",
    "    orientation='horizontal',\n",
    "    readout=True,\n",
    "    readout_format='.1f',)\n",
    "\n",
    "a1"
   ]
  },
  {
   "cell_type": "markdown",
   "id": "8b2a7c4e",
   "metadata": {},
   "source": [
    "#### Excentricité de la charge répartie "
   ]
  },
  {
   "cell_type": "code",
   "execution_count": 15,
   "id": "4078d2f1",
   "metadata": {
    "ExecuteTime": {
     "end_time": "2022-05-11T12:13:48.234812Z",
     "start_time": "2022-05-11T12:13:48.219190Z"
    }
   },
   "outputs": [
    {
     "data": {
      "application/vnd.jupyter.widget-view+json": {
       "model_id": "5db00c55ca67433cae2c5d13462d0962",
       "version_major": 2,
       "version_minor": 0
      },
      "text/plain": [
       "BoundedFloatText(value=10.0, description='$$e_{init} [mm] :$$', max=200.0, step=1.0)"
      ]
     },
     "metadata": {},
     "output_type": "display_data"
    }
   ],
   "source": [
    "einit=widgets.BoundedFloatText(\n",
    "    value=10,\n",
    "    min=0,\n",
    "    max=200,\n",
    "    step=1,\n",
    "    description='$$e_{init} [mm] :$$',\n",
    "    disabled=False)\n",
    "einit"
   ]
  },
  {
   "cell_type": "markdown",
   "id": "031eb166",
   "metadata": {},
   "source": [
    "### 1.4. Chargements ELU"
   ]
  },
  {
   "cell_type": "code",
   "execution_count": 16,
   "id": "0862ac8d",
   "metadata": {
    "ExecuteTime": {
     "end_time": "2022-05-11T12:13:48.250433Z",
     "start_time": "2022-05-11T12:13:48.234812Z"
    }
   },
   "outputs": [
    {
     "data": {
      "application/vnd.jupyter.widget-view+json": {
       "model_id": "136886dd3e3d4fabb691e6a42c00449a",
       "version_major": 2,
       "version_minor": 0
      },
      "text/plain": [
       "BoundedFloatText(value=10.0, description='$$N_{Ed} [kN] :$$', max=200.0, step=1.0)"
      ]
     },
     "metadata": {},
     "output_type": "display_data"
    }
   ],
   "source": [
    "ned=widgets.BoundedFloatText(\n",
    "    value=10,\n",
    "    min=0,\n",
    "    max=200,\n",
    "    step=1,\n",
    "    description='$$N_{Ed} [kN] :$$',\n",
    "    disabled=False)\n",
    "ned"
   ]
  },
  {
   "cell_type": "code",
   "execution_count": 17,
   "id": "c45cdddc",
   "metadata": {
    "ExecuteTime": {
     "end_time": "2022-05-11T12:13:48.272610Z",
     "start_time": "2022-05-11T12:13:48.250433Z"
    }
   },
   "outputs": [
    {
     "data": {
      "application/vnd.jupyter.widget-view+json": {
       "model_id": "af85051f600140b2afddcebeef2284d3",
       "version_major": 2,
       "version_minor": 0
      },
      "text/plain": [
       "BoundedFloatText(value=5.0, description='$$P_{ELU} [kN/m] :$$', max=200.0, step=1.0)"
      ]
     },
     "metadata": {},
     "output_type": "display_data"
    }
   ],
   "source": [
    "p=widgets.BoundedFloatText(\n",
    "    value=5,\n",
    "    min=0,\n",
    "    max=200,\n",
    "    step=1,\n",
    "    description='$$P_{ELU} [kN/m] :$$',\n",
    "    disabled=False)\n",
    "p"
   ]
  },
  {
   "cell_type": "code",
   "execution_count": 18,
   "id": "10ff3bcf",
   "metadata": {
    "ExecuteTime": {
     "end_time": "2022-05-11T12:13:48.288198Z",
     "start_time": "2022-05-11T12:13:48.272610Z"
    }
   },
   "outputs": [
    {
     "data": {
      "application/vnd.jupyter.widget-view+json": {
       "model_id": "aba78248407449769cd2c5eed6b7e4a8",
       "version_major": 2,
       "version_minor": 0
      },
      "text/plain": [
       "Button(description='Valider', style=ButtonStyle())"
      ]
     },
     "metadata": {},
     "output_type": "display_data"
    },
    {
     "data": {
      "application/javascript": [
       "IPython.notebook.execute_cell_range(IPython.notebook.get_selected_index()+1, IPython.notebook.get_selected_index()+30)"
      ],
      "text/plain": [
       "<IPython.core.display.Javascript object>"
      ]
     },
     "metadata": {},
     "output_type": "display_data"
    },
    {
     "data": {
      "application/javascript": [
       "IPython.notebook.execute_cell_range(IPython.notebook.get_selected_index()+1, IPython.notebook.get_selected_index()+30)"
      ],
      "text/plain": [
       "<IPython.core.display.Javascript object>"
      ]
     },
     "metadata": {},
     "output_type": "display_data"
    },
    {
     "data": {
      "application/javascript": [
       "IPython.notebook.execute_cell_range(IPython.notebook.get_selected_index()+1, IPython.notebook.get_selected_index()+30)"
      ],
      "text/plain": [
       "<IPython.core.display.Javascript object>"
      ]
     },
     "metadata": {},
     "output_type": "display_data"
    },
    {
     "data": {
      "application/javascript": [
       "IPython.notebook.execute_cell_range(IPython.notebook.get_selected_index()+1, IPython.notebook.get_selected_index()+30)"
      ],
      "text/plain": [
       "<IPython.core.display.Javascript object>"
      ]
     },
     "metadata": {},
     "output_type": "display_data"
    },
    {
     "data": {
      "application/javascript": [
       "IPython.notebook.execute_cell_range(IPython.notebook.get_selected_index()+1, IPython.notebook.get_selected_index()+30)"
      ],
      "text/plain": [
       "<IPython.core.display.Javascript object>"
      ]
     },
     "metadata": {},
     "output_type": "display_data"
    },
    {
     "data": {
      "application/javascript": [
       "IPython.notebook.execute_cell_range(IPython.notebook.get_selected_index()+1, IPython.notebook.get_selected_index()+30)"
      ],
      "text/plain": [
       "<IPython.core.display.Javascript object>"
      ]
     },
     "metadata": {},
     "output_type": "display_data"
    },
    {
     "data": {
      "application/javascript": [
       "IPython.notebook.execute_cell_range(IPython.notebook.get_selected_index()+1, IPython.notebook.get_selected_index()+30)"
      ],
      "text/plain": [
       "<IPython.core.display.Javascript object>"
      ]
     },
     "metadata": {},
     "output_type": "display_data"
    },
    {
     "data": {
      "application/javascript": [
       "IPython.notebook.execute_cell_range(IPython.notebook.get_selected_index()+1, IPython.notebook.get_selected_index()+30)"
      ],
      "text/plain": [
       "<IPython.core.display.Javascript object>"
      ]
     },
     "metadata": {},
     "output_type": "display_data"
    },
    {
     "data": {
      "application/javascript": [
       "IPython.notebook.execute_cell_range(IPython.notebook.get_selected_index()+1, IPython.notebook.get_selected_index()+30)"
      ],
      "text/plain": [
       "<IPython.core.display.Javascript object>"
      ]
     },
     "metadata": {},
     "output_type": "display_data"
    },
    {
     "data": {
      "application/javascript": [
       "IPython.notebook.execute_cell_range(IPython.notebook.get_selected_index()+1, IPython.notebook.get_selected_index()+30)"
      ],
      "text/plain": [
       "<IPython.core.display.Javascript object>"
      ]
     },
     "metadata": {},
     "output_type": "display_data"
    },
    {
     "data": {
      "application/javascript": [
       "IPython.notebook.execute_cell_range(IPython.notebook.get_selected_index()+1, IPython.notebook.get_selected_index()+30)"
      ],
      "text/plain": [
       "<IPython.core.display.Javascript object>"
      ]
     },
     "metadata": {},
     "output_type": "display_data"
    },
    {
     "data": {
      "application/javascript": [
       "IPython.notebook.execute_cell_range(IPython.notebook.get_selected_index()+1, IPython.notebook.get_selected_index()+30)"
      ],
      "text/plain": [
       "<IPython.core.display.Javascript object>"
      ]
     },
     "metadata": {},
     "output_type": "display_data"
    },
    {
     "data": {
      "application/javascript": [
       "IPython.notebook.execute_cell_range(IPython.notebook.get_selected_index()+1, IPython.notebook.get_selected_index()+30)"
      ],
      "text/plain": [
       "<IPython.core.display.Javascript object>"
      ]
     },
     "metadata": {},
     "output_type": "display_data"
    },
    {
     "data": {
      "application/javascript": [
       "IPython.notebook.execute_cell_range(IPython.notebook.get_selected_index()+1, IPython.notebook.get_selected_index()+30)"
      ],
      "text/plain": [
       "<IPython.core.display.Javascript object>"
      ]
     },
     "metadata": {},
     "output_type": "display_data"
    },
    {
     "data": {
      "application/javascript": [
       "IPython.notebook.execute_cell_range(IPython.notebook.get_selected_index()+1, IPython.notebook.get_selected_index()+30)"
      ],
      "text/plain": [
       "<IPython.core.display.Javascript object>"
      ]
     },
     "metadata": {},
     "output_type": "display_data"
    },
    {
     "data": {
      "application/javascript": [
       "IPython.notebook.execute_cell_range(IPython.notebook.get_selected_index()+1, IPython.notebook.get_selected_index()+30)"
      ],
      "text/plain": [
       "<IPython.core.display.Javascript object>"
      ]
     },
     "metadata": {},
     "output_type": "display_data"
    },
    {
     "data": {
      "application/javascript": [
       "IPython.notebook.execute_cell_range(IPython.notebook.get_selected_index()+1, IPython.notebook.get_selected_index()+30)"
      ],
      "text/plain": [
       "<IPython.core.display.Javascript object>"
      ]
     },
     "metadata": {},
     "output_type": "display_data"
    },
    {
     "data": {
      "application/javascript": [
       "IPython.notebook.execute_cell_range(IPython.notebook.get_selected_index()+1, IPython.notebook.get_selected_index()+30)"
      ],
      "text/plain": [
       "<IPython.core.display.Javascript object>"
      ]
     },
     "metadata": {},
     "output_type": "display_data"
    },
    {
     "data": {
      "application/javascript": [
       "IPython.notebook.execute_cell_range(IPython.notebook.get_selected_index()+1, IPython.notebook.get_selected_index()+30)"
      ],
      "text/plain": [
       "<IPython.core.display.Javascript object>"
      ]
     },
     "metadata": {},
     "output_type": "display_data"
    },
    {
     "data": {
      "application/javascript": [
       "IPython.notebook.execute_cell_range(IPython.notebook.get_selected_index()+1, IPython.notebook.get_selected_index()+30)"
      ],
      "text/plain": [
       "<IPython.core.display.Javascript object>"
      ]
     },
     "metadata": {},
     "output_type": "display_data"
    }
   ],
   "source": [
    "def run_all(ev):\n",
    "    display(Javascript('IPython.notebook.execute_cell_range(IPython.notebook.get_selected_index()+1, IPython.notebook.get_selected_index()+30)'))\n",
    "\n",
    "button = widgets.Button(description=\"Valider\")\n",
    "\n",
    "button.on_click(run_all)\n",
    "display(button)"
   ]
  },
  {
   "cell_type": "markdown",
   "id": "bed9bb6d",
   "metadata": {},
   "source": [
    "### 2. Vérifications"
   ]
  },
  {
   "cell_type": "markdown",
   "id": "6bad39dc",
   "metadata": {},
   "source": [
    "#### 2.1. Valeur de la resistance de calcul"
   ]
  },
  {
   "cell_type": "code",
   "execution_count": 211,
   "id": "e4692a55",
   "metadata": {
    "ExecuteTime": {
     "end_time": "2022-05-11T13:12:06.387282Z",
     "start_time": "2022-05-11T13:12:06.356003Z"
    }
   },
   "outputs": [],
   "source": [
    "if montage.value=='Mortier à usage courant': \n",
    "    if mat.value=='Terre cuite' or mat.value=='Silico-calcaire' or mat.value=='Béton de granulats' or mat.value=='Béton cellulaire autoclavé':\n",
    "        k=0.55\n",
    "    else:\n",
    "        k=0.45\n",
    "elif montage.value=='Mortier de joints minces':\n",
    "    if mat.value=='Terre cuite' or mat.value=='Pierre reconstituée' or mat.value=='Pierre naturelle':\n",
    "        k=0.75\n",
    "    else:\n",
    "        k=0.8\n",
    "elif montage.value=='Mortier allégé 600kg/m3<ρ<800kg/m3':\n",
    "    if mat.value=='Terre cuite':\n",
    "        k=0.3\n",
    "    elif mat.value=='Silico-calcaire':\n",
    "        k=0.2\n",
    "    else:\n",
    "        k=0.45\n",
    "else:\n",
    "    if mat.value=='Terre cuite':\n",
    "        k=0.4\n",
    "    elif mat.value=='Silico-calcaire':\n",
    "        k=0.25\n",
    "    else:\n",
    "        k=0.45\n",
    "        \n",
    "if montage.value=='Mortier à usage courant' or mat.value=='Mortier allégé 600kg/m3<ρ<800kg/m3' or mat.value=='Mortier allégé 800kg/m3<ρ<1300kg/m3':\n",
    "    fk=k*fb.value**0.7*fm.value**0.3\n",
    "else:\n",
    "    fk=k*fb.value**0.7\n",
    "\n",
    "fk=round(fk,2)\n",
    "    \n",
    "fd=fk/gm.value\n",
    "\n",
    "fd=round(fd,2)"
   ]
  },
  {
   "cell_type": "markdown",
   "id": "147420d6",
   "metadata": {
    "variables": {
     "fd": "0.72",
     "fk": "2.36",
     "gm.value": "3.3"
    }
   },
   "source": [
    "|Variable|Valeur|\n",
    "|-|-|\n",
    "|$$f_{k} [MPa]$$|{{fk}}|\n",
    "|$$\\gamma_{m}$$|{{gm.value}}|\n",
    "|$$f_{d} [MPa]$$|{{fd}}|"
   ]
  },
  {
   "cell_type": "code",
   "execution_count": 212,
   "id": "4788bd84",
   "metadata": {
    "ExecuteTime": {
     "end_time": "2022-05-11T13:12:06.457774Z",
     "start_time": "2022-05-11T13:12:06.442186Z"
    }
   },
   "outputs": [],
   "source": [
    "lefm=min(lc.value+0.57*hc.value*1000,lc.value+0.28*hc.value*1000+(a1.value*1000),l.value*1000)\n",
    "\n",
    "Aef=lefm*t.value\n",
    "\n",
    "lefm=floor(lefm)\n",
    "\n",
    "Aef=floor(Aef)\n",
    "\n",
    "Ab=lc.value*bc.value\n",
    "\n",
    "tx1=(Ab/Aef)\n",
    "\n",
    "tx1=round(tx1,2)\n",
    "\n",
    "if tx1>0.45:\n",
    "    tx11='NOT Ok'\n",
    "else:\n",
    "    tx11='Ok'\n",
    "    \n",
    "Nrdc=fd*Ab\n",
    "\n",
    "Nrdc=Nrdc/1000\n",
    "\n",
    "txc=ned.value/Nrdc\n",
    "\n",
    "txc=ceil(txc*100)"
   ]
  },
  {
   "cell_type": "markdown",
   "id": "2be9ef6f",
   "metadata": {},
   "source": [
    "#### 2.2. Vérification de l'écrasement sur appui"
   ]
  },
  {
   "cell_type": "markdown",
   "id": "598e82a0",
   "metadata": {},
   "source": [
    "#### Calcul de la surface d'appui effective "
   ]
  },
  {
   "cell_type": "markdown",
   "id": "4ddc9fa6",
   "metadata": {},
   "source": [
    "*$$ A_{ef}=l_{ef,m}\\times t=min(l_{c}+0,57 \\times h_{c} ; l_{c}+0.28 \\times h_{c}+a_{1};l) \\times t $$* "
   ]
  },
  {
   "cell_type": "markdown",
   "id": "0c1555a6",
   "metadata": {
    "variables": {
     "Aef": "392799",
     "lefm": "1963",
     "tx1": "0.05",
     "tx11": "Ok"
    }
   },
   "source": [
    "|Variable|Valeur|\n",
    "|-|-|\n",
    "|$$l_{ef,m} [mm]$$|{{lefm}}|\n",
    "|$$A_{ef} [mm^2]$$|{{Aef}}|\n",
    "|$$\\frac{A_{b}}{A_{ef}}$$|{{tx1}}|\n",
    "|$$\\frac{A_{b}}{A_{ef}}\\leq 0,45$$|**{{tx11}}**|"
   ]
  },
  {
   "cell_type": "markdown",
   "id": "c229fb85",
   "metadata": {},
   "source": [
    "#### Calcul du facteur de majoration applicable aux charges concentrées "
   ]
  },
  {
   "cell_type": "markdown",
   "id": "cec96206",
   "metadata": {},
   "source": [
    "$$1\\leq\\beta=(1+0,3.\\frac{a_{1}}{h _{c}}).(1,5-1,1.\\frac{A_{b}}{A_{ef}})\\leq min(1,25+\\frac{a_{1}}{h_{c}};1,5)$$\n"
   ]
  },
  {
   "cell_type": "code",
   "execution_count": 213,
   "id": "609d2726",
   "metadata": {
    "ExecuteTime": {
     "end_time": "2022-05-11T13:12:06.540057Z",
     "start_time": "2022-05-11T13:12:06.525630Z"
    }
   },
   "outputs": [],
   "source": [
    "beta=(1+0.3*((a1.value*1000)/(hc.value*1000)))*(1.5-1.1*(Ab/Aef))\n",
    "\n",
    "min1=1.25+((a1.value*1000)/(hc.value*1000))\n",
    "\n",
    "beta=min(beta,min1,1.5)\n",
    "\n",
    "if beta<1:\n",
    "    beta=1\n",
    "\n",
    "beta=round(beta,2)"
   ]
  },
  {
   "cell_type": "markdown",
   "id": "ff02480c",
   "metadata": {
    "variables": {
     "beta": "1.5"
    }
   },
   "source": [
    "|Variable|Valeur|\n",
    "|-|-|\n",
    "|$$\\beta$$|{{beta}}|"
   ]
  },
  {
   "cell_type": "markdown",
   "id": "77ce893a",
   "metadata": {},
   "source": [
    "#### Effort résitant sur appui"
   ]
  },
  {
   "cell_type": "markdown",
   "id": "b0632eb0",
   "metadata": {},
   "source": [
    "$$N_{Ed,c}=N_{Ed}\\leq N_{Rd,c}=\\beta.A_{b}.f_{d}$$"
   ]
  },
  {
   "cell_type": "code",
   "execution_count": 214,
   "id": "6f6773c7",
   "metadata": {
    "ExecuteTime": {
     "end_time": "2022-05-11T13:12:06.572308Z",
     "start_time": "2022-05-11T13:12:06.556687Z"
    }
   },
   "outputs": [],
   "source": [
    "Nrd=beta*Ab*fd\n",
    "\n",
    "Nrd=floor(Nrd/1000)\n",
    "\n",
    "tx2=(ned.value/Nrd)*100\n",
    "\n",
    "tx2=ceil(tx2)"
   ]
  },
  {
   "cell_type": "markdown",
   "id": "a24a9bcc",
   "metadata": {
    "ExecuteTime": {
     "end_time": "2022-05-10T16:13:18.203997Z",
     "start_time": "2022-05-10T16:13:18.172726Z"
    },
    "variables": {
     "Nrd": "19",
     "ned.value": "26.0",
     "tx2": "137"
    }
   },
   "source": [
    "|Variable|Valeur|\n",
    "|-|-|\n",
    "|$$N_{Ed,c} [kN]$$|{{ned.value}}|\n",
    "|$$N_{Rd,c} [kN]$$|{{Nrd}}|\n",
    "|**Taux de travail**|**{{tx2}}%**|"
   ]
  },
  {
   "cell_type": "markdown",
   "id": "f6620556",
   "metadata": {},
   "source": [
    "#### 2.3. Vérification à mi-hauteur"
   ]
  },
  {
   "cell_type": "markdown",
   "id": "0fa5ed86",
   "metadata": {
    "ExecuteTime": {
     "end_time": "2022-05-11T09:32:29.345107Z",
     "start_time": "2022-05-11T09:32:29.329520Z"
    }
   },
   "source": [
    "$$N_{Ed,m}=N_{Ed}+P_{ELU}\\leq N_{Rd,m}=\\phi.t.f_{d}$$"
   ]
  },
  {
   "cell_type": "code",
   "execution_count": 215,
   "id": "ed32c9f1",
   "metadata": {
    "ExecuteTime": {
     "end_time": "2022-05-11T13:12:06.655980Z",
     "start_time": "2022-05-11T13:12:06.640364Z"
    }
   },
   "outputs": [],
   "source": [
    "if mat.value=='Terre cuite' or mat.value=='Béton cellulaire autoclavé':\n",
    "    phii=1.5\n",
    "elif mat.value=='Silico-calcaire' or mat.value=='Pierre reconstitué':\n",
    "    phii=2\n",
    "elif mat.value=='Béton de granulats':\n",
    "    phii=3\n",
    "else:\n",
    "    phii=0"
   ]
  },
  {
   "cell_type": "code",
   "execution_count": 216,
   "id": "fe0c89c4",
   "metadata": {
    "ExecuteTime": {
     "end_time": "2022-05-11T13:12:06.673785Z",
     "start_time": "2022-05-11T13:12:06.657317Z"
    }
   },
   "outputs": [],
   "source": [
    "Mid=p.value*(einit.value/1000)\n",
    "\n",
    "Nid=p.value+ned.value\n",
    "\n",
    "ei=((Mid/Nid)*1000)+einit.value\n",
    "\n",
    "if ei<0.05*t.value:\n",
    "    ei=0.05*t.value\n",
    "\n",
    "ei=ei/1000\n",
    "\n",
    "ek=0.002*phii*(hc.value/(t.value/1000)*sqrt((t.value/1000)*ei))\n",
    "\n",
    "emk=ei+ek\n",
    "\n",
    "u=(t.value/1000)/(23-37*((emk)/(t.value/1000)))\n",
    "\n",
    "phi=(1-2*(emk/(t.value/1000)))*exp(-u**2/2)\n",
    "\n",
    "phi=round(phi,2)\n",
    "\n",
    "Nedm=ned.value+p.value\n",
    "\n",
    "Nrdm=phi*t.value*fd\n",
    "\n",
    "tx3=Nedm/Nrdm\n",
    "\n",
    "tx3=floor(tx3*100)\n",
    "\n",
    "Nrdm=floor(Nrdm)"
   ]
  },
  {
   "cell_type": "markdown",
   "id": "28da50dc",
   "metadata": {
    "ExecuteTime": {
     "end_time": "2022-05-11T09:27:08.959744Z",
     "start_time": "2022-05-11T09:27:08.944158Z"
    },
    "variables": {
     "Nedm": "31.0",
     "Nrdm": "120",
     "phi": "0.84",
     "tx3": "25"
    }
   },
   "source": [
    "|Variable|Valeur|\n",
    "|-|-|\n",
    "|$$\\phi_{m}$$|{{phi}}|\n",
    "|$$N_{Ed,m} [kN]$$|{{Nedm}}|\n",
    "|$$N_{Rd,m} [kN]$$|{{Nrdm}}|\n",
    "|**Taux de travail**|**{{tx3}}%**|"
   ]
  },
  {
   "cell_type": "markdown",
   "id": "4af1c18a",
   "metadata": {},
   "source": [
    "### Récapitulatif des résultats"
   ]
  },
  {
   "cell_type": "markdown",
   "id": "cac2a7a0",
   "metadata": {
    "ExecuteTime": {
     "end_time": "2022-05-11T10:01:12.275891Z",
     "start_time": "2022-05-11T10:01:12.260229Z"
    },
    "variables": {
     "fb.value": "5.0",
     "fm.value": "3.0",
     "hc.value": "3.2",
     "l.value": "6.0",
     "mat.value": "Béton de granulats",
     "max(tx2,tx3)": "137",
     "montage.value": "Mortier à usage courant",
     "t.value": "200.0"
    }
   },
   "source": [
    "|Variable|Valeur|\n",
    "|-|-|\n",
    "|**Matériau**|{{mat.value}}|\n",
    "|$$f_{b} [MPa]$$|{{fb.value}}|\n",
    "|**Montage**|{{montage.value}}|\n",
    "|$$f_{m} [MPa]$$|{{fm.value}}|\n",
    "|**Longeur [m]**|{{l.value}}|\n",
    "|**Hauteur [m]**|{{hc.value}}|\n",
    "|**Epaisseur [mm]**|{{t.value}}|\n",
    "|**Taux de travail max**|**{{max(tx2,tx3)}}%**|\n"
   ]
  },
  {
   "cell_type": "code",
   "execution_count": null,
   "id": "901390c3",
   "metadata": {},
   "outputs": [],
   "source": []
  },
  {
   "cell_type": "code",
   "execution_count": null,
   "id": "169342e3",
   "metadata": {},
   "outputs": [],
   "source": []
  },
  {
   "cell_type": "code",
   "execution_count": null,
   "id": "aaafdc81",
   "metadata": {},
   "outputs": [],
   "source": []
  },
  {
   "cell_type": "code",
   "execution_count": null,
   "id": "dd69e223",
   "metadata": {},
   "outputs": [],
   "source": []
  },
  {
   "cell_type": "code",
   "execution_count": null,
   "id": "00f0aac3",
   "metadata": {},
   "outputs": [],
   "source": []
  },
  {
   "cell_type": "code",
   "execution_count": null,
   "id": "6857c0a3",
   "metadata": {},
   "outputs": [],
   "source": []
  },
  {
   "cell_type": "code",
   "execution_count": null,
   "id": "956a9d41",
   "metadata": {},
   "outputs": [],
   "source": []
  },
  {
   "cell_type": "code",
   "execution_count": null,
   "id": "548fc59a",
   "metadata": {},
   "outputs": [],
   "source": []
  },
  {
   "cell_type": "code",
   "execution_count": null,
   "id": "99e81db0",
   "metadata": {},
   "outputs": [],
   "source": []
  }
 ],
 "metadata": {
  "extensions": {
   "jupyter_dashboards": {
    "activeView": "default_view",
    "version": 1,
    "views": {
     "default_view": {
      "cellMargin": 10,
      "defaultCellHeight": 40,
      "maxColumns": 12,
      "name": "active_view",
      "type": "grid"
     }
    }
   }
  },
  "hide_input": true,
  "kernelspec": {
   "display_name": "Python 3 (ipykernel)",
   "language": "python",
   "name": "python3"
  },
  "language_info": {
   "codemirror_mode": {
    "name": "ipython",
    "version": 3
   },
   "file_extension": ".py",
   "mimetype": "text/x-python",
   "name": "python",
   "nbconvert_exporter": "python",
   "pygments_lexer": "ipython3",
   "version": "3.10.0"
  }
 },
 "nbformat": 4,
 "nbformat_minor": 5
}
